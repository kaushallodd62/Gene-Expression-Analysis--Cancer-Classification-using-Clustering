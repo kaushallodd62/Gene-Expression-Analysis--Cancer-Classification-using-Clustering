{
 "cells": [
  {
   "attachments": {},
   "cell_type": "markdown",
   "metadata": {},
   "source": [
    "### Graph Theory Assignment 3\n",
    "> Kaushal Lodd - BT19CSE052\n",
    "\n",
    "> Saarang Rajguru - BT19CSE092"
   ]
  },
  {
   "cell_type": "markdown",
   "metadata": {},
   "source": [
    "*Importing Libraries*"
   ]
  },
  {
   "cell_type": "code",
   "execution_count": 157,
   "metadata": {},
   "outputs": [],
   "source": [
    "import numpy as np\n",
    "import pandas as pd\n",
    "import matplotlib.pyplot as plt\n",
    "import statistics\n",
    "import copy\n",
    "import time\n",
    "from sklearn.cluster import KMeans\n",
    "from sklearn.metrics import silhouette_score\n",
    "from scipy.spatial.distance import pdist, squareform, cdist\n",
    "import networkx as nx\n",
    "from networkx.algorithms import tree"
   ]
  },
  {
   "cell_type": "markdown",
   "metadata": {},
   "source": [
    "*Reading Dataset*"
   ]
  },
  {
   "cell_type": "code",
   "execution_count": 158,
   "metadata": {},
   "outputs": [
    {
     "name": "stdout",
     "output_type": "stream",
     "text": [
      "(72, 7130)\n",
      "[[-214 -153  -58 ...   36  191  -37]\n",
      " [-139  -73   -1 ...   11   76  -14]\n",
      " [ -76  -49 -307 ...   41  228  -41]\n",
      " ...\n",
      " [ -55  -44   12 ...   -4  176   40]\n",
      " [ -59 -114   23 ...    0   74  -12]\n",
      " [-131 -126  -50 ...   34  237   -2]]\n"
     ]
    },
    {
     "data": {
      "text/html": [
       "<div>\n",
       "<style scoped>\n",
       "    .dataframe tbody tr th:only-of-type {\n",
       "        vertical-align: middle;\n",
       "    }\n",
       "\n",
       "    .dataframe tbody tr th {\n",
       "        vertical-align: top;\n",
       "    }\n",
       "\n",
       "    .dataframe thead th {\n",
       "        text-align: right;\n",
       "    }\n",
       "</style>\n",
       "<table border=\"1\" class=\"dataframe\">\n",
       "  <thead>\n",
       "    <tr style=\"text-align: right;\">\n",
       "      <th></th>\n",
       "      <th>Patient</th>\n",
       "      <th>AFFX-BioB-5_at</th>\n",
       "      <th>AFFX-BioB-M_at</th>\n",
       "      <th>AFFX-BioB-3_at</th>\n",
       "      <th>AFFX-BioC-5_at</th>\n",
       "      <th>AFFX-BioC-3_at</th>\n",
       "      <th>AFFX-BioDn-5_at</th>\n",
       "      <th>AFFX-BioDn-3_at</th>\n",
       "      <th>AFFX-CreX-5_at</th>\n",
       "      <th>AFFX-CreX-3_at</th>\n",
       "      <th>...</th>\n",
       "      <th>U48730_at</th>\n",
       "      <th>U58516_at</th>\n",
       "      <th>U73738_at</th>\n",
       "      <th>X06956_at</th>\n",
       "      <th>X16699_at</th>\n",
       "      <th>X83863_at</th>\n",
       "      <th>Z17240_at</th>\n",
       "      <th>L49218_f_at</th>\n",
       "      <th>M71243_f_at</th>\n",
       "      <th>Z78285_f_at</th>\n",
       "    </tr>\n",
       "  </thead>\n",
       "  <tbody>\n",
       "    <tr>\n",
       "      <th>0</th>\n",
       "      <td>1</td>\n",
       "      <td>-214</td>\n",
       "      <td>-153</td>\n",
       "      <td>-58</td>\n",
       "      <td>88</td>\n",
       "      <td>-295</td>\n",
       "      <td>-558</td>\n",
       "      <td>199</td>\n",
       "      <td>-176</td>\n",
       "      <td>252</td>\n",
       "      <td>...</td>\n",
       "      <td>185</td>\n",
       "      <td>511</td>\n",
       "      <td>-125</td>\n",
       "      <td>389</td>\n",
       "      <td>-37</td>\n",
       "      <td>793</td>\n",
       "      <td>329</td>\n",
       "      <td>36</td>\n",
       "      <td>191</td>\n",
       "      <td>-37</td>\n",
       "    </tr>\n",
       "    <tr>\n",
       "      <th>1</th>\n",
       "      <td>2</td>\n",
       "      <td>-139</td>\n",
       "      <td>-73</td>\n",
       "      <td>-1</td>\n",
       "      <td>283</td>\n",
       "      <td>-264</td>\n",
       "      <td>-400</td>\n",
       "      <td>-330</td>\n",
       "      <td>-168</td>\n",
       "      <td>101</td>\n",
       "      <td>...</td>\n",
       "      <td>169</td>\n",
       "      <td>837</td>\n",
       "      <td>-36</td>\n",
       "      <td>442</td>\n",
       "      <td>-17</td>\n",
       "      <td>782</td>\n",
       "      <td>295</td>\n",
       "      <td>11</td>\n",
       "      <td>76</td>\n",
       "      <td>-14</td>\n",
       "    </tr>\n",
       "    <tr>\n",
       "      <th>2</th>\n",
       "      <td>3</td>\n",
       "      <td>-76</td>\n",
       "      <td>-49</td>\n",
       "      <td>-307</td>\n",
       "      <td>309</td>\n",
       "      <td>-376</td>\n",
       "      <td>-650</td>\n",
       "      <td>33</td>\n",
       "      <td>-367</td>\n",
       "      <td>206</td>\n",
       "      <td>...</td>\n",
       "      <td>315</td>\n",
       "      <td>1199</td>\n",
       "      <td>33</td>\n",
       "      <td>168</td>\n",
       "      <td>52</td>\n",
       "      <td>1138</td>\n",
       "      <td>777</td>\n",
       "      <td>41</td>\n",
       "      <td>228</td>\n",
       "      <td>-41</td>\n",
       "    </tr>\n",
       "    <tr>\n",
       "      <th>3</th>\n",
       "      <td>4</td>\n",
       "      <td>-135</td>\n",
       "      <td>-114</td>\n",
       "      <td>265</td>\n",
       "      <td>12</td>\n",
       "      <td>-419</td>\n",
       "      <td>-585</td>\n",
       "      <td>158</td>\n",
       "      <td>-253</td>\n",
       "      <td>49</td>\n",
       "      <td>...</td>\n",
       "      <td>240</td>\n",
       "      <td>835</td>\n",
       "      <td>218</td>\n",
       "      <td>174</td>\n",
       "      <td>-110</td>\n",
       "      <td>627</td>\n",
       "      <td>170</td>\n",
       "      <td>-50</td>\n",
       "      <td>126</td>\n",
       "      <td>-91</td>\n",
       "    </tr>\n",
       "    <tr>\n",
       "      <th>4</th>\n",
       "      <td>5</td>\n",
       "      <td>-106</td>\n",
       "      <td>-125</td>\n",
       "      <td>-76</td>\n",
       "      <td>168</td>\n",
       "      <td>-230</td>\n",
       "      <td>-284</td>\n",
       "      <td>4</td>\n",
       "      <td>-122</td>\n",
       "      <td>70</td>\n",
       "      <td>...</td>\n",
       "      <td>156</td>\n",
       "      <td>649</td>\n",
       "      <td>57</td>\n",
       "      <td>504</td>\n",
       "      <td>-26</td>\n",
       "      <td>250</td>\n",
       "      <td>314</td>\n",
       "      <td>14</td>\n",
       "      <td>56</td>\n",
       "      <td>-25</td>\n",
       "    </tr>\n",
       "  </tbody>\n",
       "</table>\n",
       "<p>5 rows × 7130 columns</p>\n",
       "</div>"
      ],
      "text/plain": [
       "   Patient  AFFX-BioB-5_at  AFFX-BioB-M_at  AFFX-BioB-3_at  AFFX-BioC-5_at  \\\n",
       "0        1            -214            -153             -58              88   \n",
       "1        2            -139             -73              -1             283   \n",
       "2        3             -76             -49            -307             309   \n",
       "3        4            -135            -114             265              12   \n",
       "4        5            -106            -125             -76             168   \n",
       "\n",
       "   AFFX-BioC-3_at  AFFX-BioDn-5_at  AFFX-BioDn-3_at  AFFX-CreX-5_at  \\\n",
       "0            -295             -558              199            -176   \n",
       "1            -264             -400             -330            -168   \n",
       "2            -376             -650               33            -367   \n",
       "3            -419             -585              158            -253   \n",
       "4            -230             -284                4            -122   \n",
       "\n",
       "   AFFX-CreX-3_at  ...  U48730_at  U58516_at  U73738_at  X06956_at  X16699_at  \\\n",
       "0             252  ...        185        511       -125        389        -37   \n",
       "1             101  ...        169        837        -36        442        -17   \n",
       "2             206  ...        315       1199         33        168         52   \n",
       "3              49  ...        240        835        218        174       -110   \n",
       "4              70  ...        156        649         57        504        -26   \n",
       "\n",
       "   X83863_at  Z17240_at  L49218_f_at  M71243_f_at  Z78285_f_at  \n",
       "0        793        329           36          191          -37  \n",
       "1        782        295           11           76          -14  \n",
       "2       1138        777           41          228          -41  \n",
       "3        627        170          -50          126          -91  \n",
       "4        250        314           14           56          -25  \n",
       "\n",
       "[5 rows x 7130 columns]"
      ]
     },
     "execution_count": 158,
     "metadata": {},
     "output_type": "execute_result"
    }
   ],
   "source": [
    "X = pd.read_csv('../cleaned_dataset/merged_dataset.csv')\n",
    "Y = pd.read_csv('../dataset/actual.csv')\n",
    "\n",
    "print(X.shape)\n",
    "# Remove first column\n",
    "nodes = np.delete(X.values, 0, 1)\n",
    "print(nodes)\n",
    "X.head()\n"
   ]
  },
  {
   "cell_type": "code",
   "execution_count": 159,
   "metadata": {},
   "outputs": [
    {
     "name": "stdout",
     "output_type": "stream",
     "text": [
      "ALL    47\n",
      "AML    25\n",
      "Name: cancer, dtype: int64\n"
     ]
    },
    {
     "data": {
      "text/html": [
       "<div>\n",
       "<style scoped>\n",
       "    .dataframe tbody tr th:only-of-type {\n",
       "        vertical-align: middle;\n",
       "    }\n",
       "\n",
       "    .dataframe tbody tr th {\n",
       "        vertical-align: top;\n",
       "    }\n",
       "\n",
       "    .dataframe thead th {\n",
       "        text-align: right;\n",
       "    }\n",
       "</style>\n",
       "<table border=\"1\" class=\"dataframe\">\n",
       "  <thead>\n",
       "    <tr style=\"text-align: right;\">\n",
       "      <th></th>\n",
       "      <th>patient</th>\n",
       "      <th>cancer</th>\n",
       "    </tr>\n",
       "  </thead>\n",
       "  <tbody>\n",
       "    <tr>\n",
       "      <th>0</th>\n",
       "      <td>1</td>\n",
       "      <td>ALL</td>\n",
       "    </tr>\n",
       "    <tr>\n",
       "      <th>1</th>\n",
       "      <td>2</td>\n",
       "      <td>ALL</td>\n",
       "    </tr>\n",
       "    <tr>\n",
       "      <th>2</th>\n",
       "      <td>3</td>\n",
       "      <td>ALL</td>\n",
       "    </tr>\n",
       "    <tr>\n",
       "      <th>3</th>\n",
       "      <td>4</td>\n",
       "      <td>ALL</td>\n",
       "    </tr>\n",
       "    <tr>\n",
       "      <th>4</th>\n",
       "      <td>5</td>\n",
       "      <td>ALL</td>\n",
       "    </tr>\n",
       "  </tbody>\n",
       "</table>\n",
       "</div>"
      ],
      "text/plain": [
       "   patient cancer\n",
       "0        1    ALL\n",
       "1        2    ALL\n",
       "2        3    ALL\n",
       "3        4    ALL\n",
       "4        5    ALL"
      ]
     },
     "execution_count": 159,
     "metadata": {},
     "output_type": "execute_result"
    }
   ],
   "source": [
    "print(Y['cancer'].value_counts())\n",
    "Y.head()"
   ]
  },
  {
   "attachments": {},
   "cell_type": "markdown",
   "metadata": {},
   "source": [
    "*Determining number of clusters using elbow method*"
   ]
  },
  {
   "cell_type": "code",
   "execution_count": 160,
   "metadata": {},
   "outputs": [
    {
     "data": {
      "image/png": "[encoded data removed]",
      "text/plain": [
       "<Figure size 640x480 with 1 Axes>"
      ]
     },
     "metadata": {},
     "output_type": "display_data"
    }
   ],
   "source": [
    "# Determine the number of clusters using the elbow method\n",
    "distortions = []\n",
    "K = range(1,10)\n",
    "for k in K:\n",
    "    kmeanModel = KMeans(n_clusters=k).fit(nodes)\n",
    "    kmeanModel.fit(nodes)\n",
    "    distortions.append(sum(np.min(cdist(nodes, kmeanModel.cluster_centers_, 'euclidean'), axis=1)) / nodes.shape[0])\n",
    "\n",
    "# Plot\n",
    "plt.plot(K, distortions, 'bx-')\n",
    "plt.xlabel('k')\n",
    "plt.ylabel('Distortion')\n",
    "plt.title('The Elbow Method showing the optimal k')\n",
    "plt.show()"
   ]
  },
  {
   "attachments": {},
   "cell_type": "markdown",
   "metadata": {},
   "source": [
    "*K-means Clustering*"
   ]
  },
  {
   "cell_type": "code",
   "execution_count": 161,
   "metadata": {},
   "outputs": [],
   "source": [
    "def doKmeans(X, nclust):\n",
    "    model = KMeans(nclust)\n",
    "    model.fit(X)\n",
    "    clust_labels = model.predict(X)\n",
    "    cent = model.cluster_centers_\n",
    "    return (clust_labels, cent)"
   ]
  },
  {
   "cell_type": "code",
   "execution_count": 162,
   "metadata": {},
   "outputs": [
    {
     "name": "stdout",
     "output_type": "stream",
     "text": [
      "0    46\n",
      "1    26\n",
      "Name: 0, dtype: int64\n",
      "Silhouette Score:  0.11896526239978214\n",
      "Execution time: 0.11764883995056152\n"
     ]
    }
   ],
   "source": [
    "start=time.time()\n",
    "clust_labels, cent = doKmeans(nodes, 2)\n",
    "kmeans = pd.DataFrame(clust_labels)\n",
    "end=time.time()\n",
    "print(kmeans[0].value_counts())\n",
    "score=silhouette_score(nodes, clust_labels,metric='euclidean')\n",
    "print(\"Silhouette Score: \", score)\n",
    "print(\"Execution time:\",end-start)"
   ]
  },
  {
   "attachments": {},
   "cell_type": "markdown",
   "metadata": {},
   "source": [
    "*Computing Adjacency Matrix*"
   ]
  },
  {
   "cell_type": "code",
   "execution_count": 163,
   "metadata": {},
   "outputs": [
    {
     "name": "stdout",
     "output_type": "stream",
     "text": [
      "[[     0.     84238.563  88486.177 ...  83298.155  70427.452  60936.541]\n",
      " [ 84238.563      0.     84387.974 ... 102642.753  82742.1    83679.759]\n",
      " [ 88486.177  84387.974      0.    ... 102304.189 103878.755  94722.794]\n",
      " ...\n",
      " [ 83298.155 102642.753 102304.189 ...      0.     82128.374  72886.682]\n",
      " [ 70427.452  82742.1   103878.755 ...  82128.374      0.     53675.325]\n",
      " [ 60936.541  83679.759  94722.794 ...  72886.682  53675.325      0.   ]]\n"
     ]
    }
   ],
   "source": [
    "G = nx.Graph()\n",
    "dist_matrix = squareform(pdist(nodes))\n",
    "\n",
    "# Create a Complete Graph\n",
    "for i in range(len(nodes)):\n",
    "    for j in range(i+1, len(nodes)):\n",
    "        G.add_edge(i, j, weight=dist_matrix[i][j])\n",
    "\n",
    "# Print adjacency matrix\n",
    "np.set_printoptions(precision=3)\n",
    "print(nx.adjacency_matrix(G).todense())"
   ]
  },
  {
   "attachments": {},
   "cell_type": "markdown",
   "metadata": {},
   "source": [
    "*Finding MST*"
   ]
  },
  {
   "cell_type": "code",
   "execution_count": 164,
   "metadata": {},
   "outputs": [
    {
     "name": "stdout",
     "output_type": "stream",
     "text": [
      "Number of edges in MST:  71\n",
      "Number of nodes in MST:  72\n"
     ]
    },
    {
     "data": {
      "image/png": "[encoded data removed]",
      "text/plain": [
       "<Figure size 640x480 with 1 Axes>"
      ]
     },
     "metadata": {},
     "output_type": "display_data"
    }
   ],
   "source": [
    "mst = tree.minimum_spanning_tree(G, algorithm=\"kruskal\")\n",
    "print(\"Number of edges in MST: \", mst.size())\n",
    "print(\"Number of nodes in MST: \", mst.order())\n",
    "\n",
    "# Visualize the MST\n",
    "nx.draw_networkx(mst, node_size=30, node_color='red', with_labels=False)\n",
    "plt.show()"
   ]
  },
  {
   "attachments": {},
   "cell_type": "markdown",
   "metadata": {},
   "source": [
    "*Clustering by removing Longest Edge*"
   ]
  },
  {
   "cell_type": "code",
   "execution_count": 165,
   "metadata": {},
   "outputs": [],
   "source": [
    "\n",
    "sorted_edges=sorted(mst.edges(data=True), key=lambda t: t[2].get('weight',1))\n",
    "n = len(nodes)\n",
    "visited = set()\n",
    "adjMatrix =[[-1 for i in range(n)] for i in range(n)]"
   ]
  },
  {
   "cell_type": "code",
   "execution_count": 166,
   "metadata": {},
   "outputs": [],
   "source": [
    "def traverse(start,result,adjMatrix):\n",
    "    result.append(start)\n",
    "    visited.add(start)\n",
    "    for i in range(n):\n",
    "        if(i not in visited and adjMatrix[start][i]!=-1):\n",
    "            traverse(i,result,adjMatrix)"
   ]
  },
  {
   "cell_type": "code",
   "execution_count": 167,
   "metadata": {},
   "outputs": [
    {
     "name": "stdout",
     "output_type": "stream",
     "text": [
      "Clusters:\n",
      "[0, 3, 6, 13, 1, 16, 10, 2, 8, 9, 5, 22, 23, 4, 14, 17, 67, 15, 18, 39, 40, 11, 24, 28, 56, 53, 59, 64, 51, 54, 42, 55, 34, 46, 65, 58, 26, 48, 33, 27, 31, 32, 36, 37, 49, 29, 35, 30, 62, 61, 50, 60, 57, 52, 7, 71, 12, 41, 47, 19, 68, 21, 25, 44, 45, 43, 69, 38, 66, 70]\n",
      "[20]\n",
      "[63]\n",
      "Silhouette score: 0.1947542033161801\n",
      "Execution time: 0.559105634689331\n"
     ]
    }
   ],
   "source": [
    "# removing k longest edges\n",
    "k = 2\n",
    "clusters=[]\n",
    "e=len(sorted_edges)\n",
    "for i in range(e-k):\n",
    "    adjMatrix[sorted_edges[i][0]][sorted_edges[i][1]] = sorted_edges[i][2]['weight']\n",
    "    adjMatrix[sorted_edges[i][1]][sorted_edges[i][0]] = sorted_edges[i][2]['weight']\n",
    "for i in range(n):\n",
    "    if i not in visited:\n",
    "        result=[]\n",
    "        traverse(i,result,adjMatrix)\n",
    "        clusters.append(result) \n",
    "end=time.time()\n",
    "# Printing the clusters\n",
    "print(\"Clusters:\")\n",
    "for i in range(len(clusters)):\n",
    "    print(clusters[i])\n",
    "\n",
    "# Create cluster labels\n",
    "cluster_labels = np.zeros(len(nodes))\n",
    "for i in range(len(clusters)):\n",
    "    for j in range(len(clusters[i])):\n",
    "        cluster_labels[clusters[i][j]] = i\n",
    "    \n",
    "print(\"Silhouette score:\",silhouette_score(nodes, cluster_labels, metric='euclidean'))\n",
    "print(\"Execution time:\",end-start)"
   ]
  },
  {
   "attachments": {},
   "cell_type": "markdown",
   "metadata": {},
   "source": [
    "*Clustering using MSDR*"
   ]
  },
  {
   "cell_type": "code",
   "execution_count": 168,
   "metadata": {},
   "outputs": [],
   "source": [
    "edgesRemoved = []"
   ]
  },
  {
   "cell_type": "code",
   "execution_count": 169,
   "metadata": {},
   "outputs": [],
   "source": [
    "def stdevMST(G):\n",
    "    wts=[]\n",
    "    for e in G.edges(data=True):\n",
    "        wts.append(e[2]['weight'])\n",
    "    return statistics.stdev(wts)\n",
    "def stdevComponents(comp):\n",
    "    n=0\n",
    "    d=0\n",
    "    for c in comp:\n",
    "        no_of_edges=c.number_of_edges()\n",
    "        if no_of_edges>=2:\n",
    "            n=n+no_of_edges*stdevMST(c)\n",
    "        d=d+no_of_edges\n",
    "    return n/d\n",
    "\n",
    "def MSDR(T_0):\n",
    "    _delStdv = [0.0]\n",
    "    S_k = copy.deepcopy(T_0)\n",
    "    G = copy.deepcopy(T_0)\n",
    "    _stdevT0 = stdevMST(G)\n",
    "    _stdevSk = 0\n",
    "    epsilon = 0.000001\n",
    "    subgraphs = []\n",
    "    i = 0\n",
    "    Flag = True\n",
    "    while Flag:\n",
    "        i += 1\n",
    "        _delStdv.append(-1e9)\n",
    "        edgeSelected = None\n",
    "        for e in G.edges():\n",
    "            eWeight = G[e[0]][e[1]]['weight']\n",
    "            G.remove_edge(e[0], e[1])\n",
    "            subgraphs = [copy.deepcopy(G.subgraph(c)) for c in nx.connected_components(G)]\n",
    "            _stdevSk = stdevComponents(subgraphs)\n",
    "            if _delStdv[i] < _stdevSk - _stdevT0:\n",
    "                _delStdv[i] = _stdevSk - _stdevT0\n",
    "                edgeSelected = e\n",
    "            G.add_edge(e[0], e[1], weight = eWeight)\n",
    "        G.remove_edge(edgeSelected[0], edgeSelected[1])\n",
    "        edgesRemoved.append(edgeSelected)\n",
    "        if abs(_delStdv[i] - _delStdv[i-1]) < abs(epsilon * (_delStdv[i] +1)) :\n",
    "            Flag = False\n",
    "        if i == 2:\n",
    "            Flag = False\n",
    "    return G,_delStdv"
   ]
  },
  {
   "cell_type": "code",
   "execution_count": 170,
   "metadata": {},
   "outputs": [
    {
     "name": "stdout",
     "output_type": "stream",
     "text": [
      "Clusters:\n",
      "[0, 3, 13, 1, 16, 10, 2, 8, 9, 5, 22, 23, 4, 14, 17, 67, 15, 18, 39, 63, 20, 40, 11, 24, 28, 56, 53, 59, 64, 51, 54, 42, 55, 34, 46, 65, 58, 26, 48, 33, 27, 31, 32, 36, 37, 49, 29, 35, 30, 62, 61, 50, 60, 57, 52, 7, 71, 12, 47, 19, 68, 21, 25, 44, 45, 43, 69, 38, 66, 70]\n",
      "[6]\n",
      "[41]\n",
      "Silhouette Score:  -0.08877653580165963\n",
      "Execution time: 0.6507866382598877\n"
     ]
    }
   ],
   "source": [
    "start=time.time()\n",
    "G,s=MSDR(mst)\n",
    "adjMatrix2 =[[-1 for i in range(n)] for i in range(n)]\n",
    "e=len(sorted_edges)\n",
    "for i in range(e):\n",
    "    adjMatrix2[sorted_edges[i][0]][sorted_edges[i][1]] = sorted_edges[i][2]['weight']\n",
    "    adjMatrix2[sorted_edges[i][1]][sorted_edges[i][0]] = sorted_edges[i][2]['weight']\n",
    "\n",
    "for edge in edgesRemoved:\n",
    "    adjMatrix2[edge[0]][edge[1]]=-1\n",
    "clusters=[]\n",
    "visited=set()\n",
    "for i in range(n):\n",
    "    if i not in visited:\n",
    "        result=[]\n",
    "        traverse(i,result,adjMatrix2)\n",
    "        clusters.append(result)\n",
    "end=time.time()\n",
    "print(\"Clusters:\")\n",
    "for i in range(len(clusters)):\n",
    "    print(clusters[i])\n",
    "\n",
    "# Create cluster labels\n",
    "cluster_labels = np.zeros(len(nodes))\n",
    "for i in range(len(clusters)):\n",
    "    for j in range(len(clusters[i])):\n",
    "        cluster_labels[clusters[i][j]] = i\n",
    "\n",
    "print(\"Silhouette Score: \", silhouette_score(nodes, cluster_labels, metric='euclidean'))\n",
    "print(\"Execution time:\",end-start)"
   ]
  }
 ],
 "metadata": {
  "kernelspec": {
   "display_name": "Python 3 (ipykernel)",
   "language": "python",
   "name": "python3"
  },
  "language_info": {
   "codemirror_mode": {
    "name": "ipython",
    "version": 3
   },
   "file_extension": ".py",
   "mimetype": "text/x-python",
   "name": "python",
   "nbconvert_exporter": "python",
   "pygments_lexer": "ipython3",
   "version": "3.10.10"
  },
  "vscode": {
   "interpreter": {
    "hash": "8960d8cfc32f36f3c9079e38af96efc20425745cff49af8dfc72035b3a678df4"
   }
  }
 },
 "nbformat": 4,
 "nbformat_minor": 2
}
