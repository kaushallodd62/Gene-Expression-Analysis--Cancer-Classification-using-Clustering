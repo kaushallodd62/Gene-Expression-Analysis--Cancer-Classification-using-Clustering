{
 "cells": [
  {
   "attachments": {},
   "cell_type": "markdown",
   "metadata": {},
   "source": [
    "### Graph Theory Assignment 4\n",
    "> Kaushal Lodd - BT19CSE052\n",
    "\n",
    "> Saarang Rajguru - BT19CSE092"
   ]
  },
  {
   "attachments": {},
   "cell_type": "markdown",
   "metadata": {},
   "source": [
    "*Importing Libraries*"
   ]
  },
  {
   "cell_type": "code",
   "execution_count": 61,
   "metadata": {},
   "outputs": [],
   "source": [
    "import numpy as np\n",
    "import pandas as pd\n",
    "import matplotlib.pyplot as plt\n",
    "import math\n",
    "import statistics\n",
    "import copy\n",
    "import time\n",
    "from sklearn.cluster import KMeans\n",
    "from sklearn.metrics import silhouette_score\n",
    "from scipy.spatial.distance import pdist, squareform, cdist\n",
    "import networkx as nx\n",
    "from networkx.algorithms import tree"
   ]
  },
  {
   "cell_type": "markdown",
   "metadata": {},
   "source": [
    "*Reading Dataset*"
   ]
  },
  {
   "cell_type": "code",
   "execution_count": 62,
   "metadata": {},
   "outputs": [
    {
     "name": "stdout",
     "output_type": "stream",
     "text": [
      "(72, 7130)\n",
      "[[-214 -153  -58 ...   36  191  -37]\n",
      " [-139  -73   -1 ...   11   76  -14]\n",
      " [ -76  -49 -307 ...   41  228  -41]\n",
      " ...\n",
      " [ -55  -44   12 ...   -4  176   40]\n",
      " [ -59 -114   23 ...    0   74  -12]\n",
      " [-131 -126  -50 ...   34  237   -2]]\n"
     ]
    },
    {
     "data": {
      "text/html": [
       "<div>\n",
       "<style scoped>\n",
       "    .dataframe tbody tr th:only-of-type {\n",
       "        vertical-align: middle;\n",
       "    }\n",
       "\n",
       "    .dataframe tbody tr th {\n",
       "        vertical-align: top;\n",
       "    }\n",
       "\n",
       "    .dataframe thead th {\n",
       "        text-align: right;\n",
       "    }\n",
       "</style>\n",
       "<table border=\"1\" class=\"dataframe\">\n",
       "  <thead>\n",
       "    <tr style=\"text-align: right;\">\n",
       "      <th></th>\n",
       "      <th>Patient</th>\n",
       "      <th>AFFX-BioB-5_at</th>\n",
       "      <th>AFFX-BioB-M_at</th>\n",
       "      <th>AFFX-BioB-3_at</th>\n",
       "      <th>AFFX-BioC-5_at</th>\n",
       "      <th>AFFX-BioC-3_at</th>\n",
       "      <th>AFFX-BioDn-5_at</th>\n",
       "      <th>AFFX-BioDn-3_at</th>\n",
       "      <th>AFFX-CreX-5_at</th>\n",
       "      <th>AFFX-CreX-3_at</th>\n",
       "      <th>...</th>\n",
       "      <th>U48730_at</th>\n",
       "      <th>U58516_at</th>\n",
       "      <th>U73738_at</th>\n",
       "      <th>X06956_at</th>\n",
       "      <th>X16699_at</th>\n",
       "      <th>X83863_at</th>\n",
       "      <th>Z17240_at</th>\n",
       "      <th>L49218_f_at</th>\n",
       "      <th>M71243_f_at</th>\n",
       "      <th>Z78285_f_at</th>\n",
       "    </tr>\n",
       "  </thead>\n",
       "  <tbody>\n",
       "    <tr>\n",
       "      <th>0</th>\n",
       "      <td>1</td>\n",
       "      <td>-214</td>\n",
       "      <td>-153</td>\n",
       "      <td>-58</td>\n",
       "      <td>88</td>\n",
       "      <td>-295</td>\n",
       "      <td>-558</td>\n",
       "      <td>199</td>\n",
       "      <td>-176</td>\n",
       "      <td>252</td>\n",
       "      <td>...</td>\n",
       "      <td>185</td>\n",
       "      <td>511</td>\n",
       "      <td>-125</td>\n",
       "      <td>389</td>\n",
       "      <td>-37</td>\n",
       "      <td>793</td>\n",
       "      <td>329</td>\n",
       "      <td>36</td>\n",
       "      <td>191</td>\n",
       "      <td>-37</td>\n",
       "    </tr>\n",
       "    <tr>\n",
       "      <th>1</th>\n",
       "      <td>2</td>\n",
       "      <td>-139</td>\n",
       "      <td>-73</td>\n",
       "      <td>-1</td>\n",
       "      <td>283</td>\n",
       "      <td>-264</td>\n",
       "      <td>-400</td>\n",
       "      <td>-330</td>\n",
       "      <td>-168</td>\n",
       "      <td>101</td>\n",
       "      <td>...</td>\n",
       "      <td>169</td>\n",
       "      <td>837</td>\n",
       "      <td>-36</td>\n",
       "      <td>442</td>\n",
       "      <td>-17</td>\n",
       "      <td>782</td>\n",
       "      <td>295</td>\n",
       "      <td>11</td>\n",
       "      <td>76</td>\n",
       "      <td>-14</td>\n",
       "    </tr>\n",
       "    <tr>\n",
       "      <th>2</th>\n",
       "      <td>3</td>\n",
       "      <td>-76</td>\n",
       "      <td>-49</td>\n",
       "      <td>-307</td>\n",
       "      <td>309</td>\n",
       "      <td>-376</td>\n",
       "      <td>-650</td>\n",
       "      <td>33</td>\n",
       "      <td>-367</td>\n",
       "      <td>206</td>\n",
       "      <td>...</td>\n",
       "      <td>315</td>\n",
       "      <td>1199</td>\n",
       "      <td>33</td>\n",
       "      <td>168</td>\n",
       "      <td>52</td>\n",
       "      <td>1138</td>\n",
       "      <td>777</td>\n",
       "      <td>41</td>\n",
       "      <td>228</td>\n",
       "      <td>-41</td>\n",
       "    </tr>\n",
       "    <tr>\n",
       "      <th>3</th>\n",
       "      <td>4</td>\n",
       "      <td>-135</td>\n",
       "      <td>-114</td>\n",
       "      <td>265</td>\n",
       "      <td>12</td>\n",
       "      <td>-419</td>\n",
       "      <td>-585</td>\n",
       "      <td>158</td>\n",
       "      <td>-253</td>\n",
       "      <td>49</td>\n",
       "      <td>...</td>\n",
       "      <td>240</td>\n",
       "      <td>835</td>\n",
       "      <td>218</td>\n",
       "      <td>174</td>\n",
       "      <td>-110</td>\n",
       "      <td>627</td>\n",
       "      <td>170</td>\n",
       "      <td>-50</td>\n",
       "      <td>126</td>\n",
       "      <td>-91</td>\n",
       "    </tr>\n",
       "    <tr>\n",
       "      <th>4</th>\n",
       "      <td>5</td>\n",
       "      <td>-106</td>\n",
       "      <td>-125</td>\n",
       "      <td>-76</td>\n",
       "      <td>168</td>\n",
       "      <td>-230</td>\n",
       "      <td>-284</td>\n",
       "      <td>4</td>\n",
       "      <td>-122</td>\n",
       "      <td>70</td>\n",
       "      <td>...</td>\n",
       "      <td>156</td>\n",
       "      <td>649</td>\n",
       "      <td>57</td>\n",
       "      <td>504</td>\n",
       "      <td>-26</td>\n",
       "      <td>250</td>\n",
       "      <td>314</td>\n",
       "      <td>14</td>\n",
       "      <td>56</td>\n",
       "      <td>-25</td>\n",
       "    </tr>\n",
       "  </tbody>\n",
       "</table>\n",
       "<p>5 rows × 7130 columns</p>\n",
       "</div>"
      ],
      "text/plain": [
       "   Patient  AFFX-BioB-5_at  AFFX-BioB-M_at  AFFX-BioB-3_at  AFFX-BioC-5_at  \\\n",
       "0        1            -214            -153             -58              88   \n",
       "1        2            -139             -73              -1             283   \n",
       "2        3             -76             -49            -307             309   \n",
       "3        4            -135            -114             265              12   \n",
       "4        5            -106            -125             -76             168   \n",
       "\n",
       "   AFFX-BioC-3_at  AFFX-BioDn-5_at  AFFX-BioDn-3_at  AFFX-CreX-5_at  \\\n",
       "0            -295             -558              199            -176   \n",
       "1            -264             -400             -330            -168   \n",
       "2            -376             -650               33            -367   \n",
       "3            -419             -585              158            -253   \n",
       "4            -230             -284                4            -122   \n",
       "\n",
       "   AFFX-CreX-3_at  ...  U48730_at  U58516_at  U73738_at  X06956_at  X16699_at  \\\n",
       "0             252  ...        185        511       -125        389        -37   \n",
       "1             101  ...        169        837        -36        442        -17   \n",
       "2             206  ...        315       1199         33        168         52   \n",
       "3              49  ...        240        835        218        174       -110   \n",
       "4              70  ...        156        649         57        504        -26   \n",
       "\n",
       "   X83863_at  Z17240_at  L49218_f_at  M71243_f_at  Z78285_f_at  \n",
       "0        793        329           36          191          -37  \n",
       "1        782        295           11           76          -14  \n",
       "2       1138        777           41          228          -41  \n",
       "3        627        170          -50          126          -91  \n",
       "4        250        314           14           56          -25  \n",
       "\n",
       "[5 rows x 7130 columns]"
      ]
     },
     "execution_count": 62,
     "metadata": {},
     "output_type": "execute_result"
    }
   ],
   "source": [
    "X = pd.read_csv('../cleaned_dataset/merged_dataset.csv')\n",
    "Y = pd.read_csv('../dataset/actual.csv')\n",
    "\n",
    "print(X.shape)\n",
    "# Remove first column\n",
    "nodes = np.delete(X.values, 0, 1)\n",
    "print(nodes)\n",
    "X.head()\n"
   ]
  },
  {
   "cell_type": "code",
   "execution_count": 63,
   "metadata": {},
   "outputs": [
    {
     "name": "stdout",
     "output_type": "stream",
     "text": [
      "ALL    47\n",
      "AML    25\n",
      "Name: cancer, dtype: int64\n"
     ]
    },
    {
     "data": {
      "text/html": [
       "<div>\n",
       "<style scoped>\n",
       "    .dataframe tbody tr th:only-of-type {\n",
       "        vertical-align: middle;\n",
       "    }\n",
       "\n",
       "    .dataframe tbody tr th {\n",
       "        vertical-align: top;\n",
       "    }\n",
       "\n",
       "    .dataframe thead th {\n",
       "        text-align: right;\n",
       "    }\n",
       "</style>\n",
       "<table border=\"1\" class=\"dataframe\">\n",
       "  <thead>\n",
       "    <tr style=\"text-align: right;\">\n",
       "      <th></th>\n",
       "      <th>patient</th>\n",
       "      <th>cancer</th>\n",
       "    </tr>\n",
       "  </thead>\n",
       "  <tbody>\n",
       "    <tr>\n",
       "      <th>0</th>\n",
       "      <td>1</td>\n",
       "      <td>ALL</td>\n",
       "    </tr>\n",
       "    <tr>\n",
       "      <th>1</th>\n",
       "      <td>2</td>\n",
       "      <td>ALL</td>\n",
       "    </tr>\n",
       "    <tr>\n",
       "      <th>2</th>\n",
       "      <td>3</td>\n",
       "      <td>ALL</td>\n",
       "    </tr>\n",
       "    <tr>\n",
       "      <th>3</th>\n",
       "      <td>4</td>\n",
       "      <td>ALL</td>\n",
       "    </tr>\n",
       "    <tr>\n",
       "      <th>4</th>\n",
       "      <td>5</td>\n",
       "      <td>ALL</td>\n",
       "    </tr>\n",
       "  </tbody>\n",
       "</table>\n",
       "</div>"
      ],
      "text/plain": [
       "   patient cancer\n",
       "0        1    ALL\n",
       "1        2    ALL\n",
       "2        3    ALL\n",
       "3        4    ALL\n",
       "4        5    ALL"
      ]
     },
     "execution_count": 63,
     "metadata": {},
     "output_type": "execute_result"
    }
   ],
   "source": [
    "print(Y['cancer'].value_counts())\n",
    "Y.head()"
   ]
  },
  {
   "attachments": {},
   "cell_type": "markdown",
   "metadata": {},
   "source": [
    "*Complete Graph*"
   ]
  },
  {
   "cell_type": "code",
   "execution_count": 64,
   "metadata": {},
   "outputs": [
    {
     "name": "stdout",
     "output_type": "stream",
     "text": [
      "(72, 72)\n",
      "[[     0.     84238.563  88486.177 ...  83298.155  70427.452  60936.541]\n",
      " [ 84238.563      0.     84387.974 ... 102642.753  82742.1    83679.759]\n",
      " [ 88486.177  84387.974      0.    ... 102304.189 103878.755  94722.794]\n",
      " ...\n",
      " [ 83298.155 102642.753 102304.189 ...      0.     82128.374  72886.682]\n",
      " [ 70427.452  82742.1   103878.755 ...  82128.374      0.     53675.325]\n",
      " [ 60936.541  83679.759  94722.794 ...  72886.682  53675.325      0.   ]]\n"
     ]
    }
   ],
   "source": [
    "G = nx.Graph()\n",
    "dist_matrix = squareform(pdist(nodes))\n",
    "\n",
    "# Create a Complete Graph\n",
    "for i in range(len(nodes)):\n",
    "    for j in range(i+1, len(nodes)):\n",
    "        G.add_edge(i, j, weight=dist_matrix[i][j])\n",
    "\n",
    "# Print adjacency matrix\n",
    "np.set_printoptions(precision=3)\n",
    "print(dist_matrix.shape)\n",
    "print(dist_matrix)"
   ]
  },
  {
   "attachments": {},
   "cell_type": "markdown",
   "metadata": {},
   "source": [
    "*Constructing 3-neighbourhood MST*"
   ]
  },
  {
   "cell_type": "code",
   "execution_count": 65,
   "metadata": {},
   "outputs": [
    {
     "name": "stdout",
     "output_type": "stream",
     "text": [
      "213\n"
     ]
    }
   ],
   "source": [
    "def MST(adj):\n",
    "    n=len(adj)\n",
    "    Mst=[]\n",
    "    start=0\n",
    "    pq=[]\n",
    "    mset=set()\n",
    "    mset.add(start)\n",
    "    for u in range(n):\n",
    "        t=[]\n",
    "        t.append(adj[start][u])\n",
    "        t.append(start)\n",
    "        pq.append(t)\n",
    "    for i in range(n-1):\n",
    "        node=-1\n",
    "        val=math.inf\n",
    "        for u in range(n):\n",
    "            if u not in mset and pq[u][0]<val:\n",
    "                val=pq[u][0]\n",
    "                node=u\n",
    "        Mst.append([pq[node][1],node])\n",
    "        mset.add(node)\n",
    "        for u in range(n):\n",
    "            if u not in mset and adj[node][u]<pq[u][0]:\n",
    "                pq[u][0]=adj[node][u]\n",
    "                pq[u][1]=node\n",
    "    return Mst\n",
    "\n",
    "def mstNeighbourhood(graph,t):\n",
    "    edges=set()\n",
    "    g=copy.deepcopy(graph)\n",
    "    for i in range(t):\n",
    "        result=MST(g)\n",
    "        for edge in result:\n",
    "            g[edge[0]][edge[1]]=g[edge[1]][edge[0]]=math.inf\n",
    "            edges.add(tuple(edge))\n",
    "    return edges\n",
    "\n",
    "mst3=mstNeighbourhood(dist_matrix,3)\n",
    "print(len(mst3))"
   ]
  },
  {
   "attachments": {},
   "cell_type": "markdown",
   "metadata": {},
   "source": [
    "*Adjacency Matrix*"
   ]
  },
  {
   "cell_type": "code",
   "execution_count": 66,
   "metadata": {},
   "outputs": [
    {
     "name": "stdout",
     "output_type": "stream",
     "text": [
      "(72, 72)\n",
      "[[0. 0. 0. ... 0. 0. 1.]\n",
      " [0. 0. 0. ... 0. 0. 0.]\n",
      " [0. 0. 0. ... 0. 0. 0.]\n",
      " ...\n",
      " [0. 0. 0. ... 0. 0. 0.]\n",
      " [0. 0. 0. ... 0. 0. 1.]\n",
      " [1. 0. 0. ... 0. 1. 0.]]\n"
     ]
    }
   ],
   "source": [
    "# Comput adjacency matrix for mst3\n",
    "adj_matrix = np.zeros((len(nodes), len(nodes)))\n",
    "for edge in mst3:\n",
    "    adj_matrix[edge[0]][edge[1]] = 1\n",
    "    adj_matrix[edge[1]][edge[0]] = 1\n",
    "\n",
    "# Print adjacency matrix\n",
    "print(adj_matrix.shape)\n",
    "print(adj_matrix)"
   ]
  },
  {
   "attachments": {},
   "cell_type": "markdown",
   "metadata": {},
   "source": [
    "*Degree Matrix*"
   ]
  },
  {
   "cell_type": "code",
   "execution_count": 67,
   "metadata": {},
   "outputs": [
    {
     "name": "stdout",
     "output_type": "stream",
     "text": [
      "(72, 72)\n",
      "[[ 8.  0.  0. ...  0.  0.  0.]\n",
      " [ 0.  4.  0. ...  0.  0.  0.]\n",
      " [ 0.  0.  5. ...  0.  0.  0.]\n",
      " ...\n",
      " [ 0.  0.  0. ... 12.  0.  0.]\n",
      " [ 0.  0.  0. ...  0.  7.  0.]\n",
      " [ 0.  0.  0. ...  0.  0. 12.]]\n"
     ]
    }
   ],
   "source": [
    "# Compute degree matrxi of mst3\n",
    "degree_matrix = np.zeros((len(nodes), len(nodes)))\n",
    "for i in range(len(nodes)):\n",
    "    degree_matrix[i][i] = sum(adj_matrix[i])\n",
    "\n",
    "# Print degree matrix\n",
    "print(degree_matrix.shape)\n",
    "print(degree_matrix)"
   ]
  },
  {
   "attachments": {},
   "cell_type": "markdown",
   "metadata": {},
   "source": [
    "*Laplacian Matrix*"
   ]
  },
  {
   "cell_type": "code",
   "execution_count": 68,
   "metadata": {},
   "outputs": [
    {
     "name": "stdout",
     "output_type": "stream",
     "text": [
      "(72, 72)\n",
      "[[ 8.  0.  0. ...  0.  0. -1.]\n",
      " [ 0.  4.  0. ...  0.  0.  0.]\n",
      " [ 0.  0.  5. ...  0.  0.  0.]\n",
      " ...\n",
      " [ 0.  0.  0. ... 12.  0.  0.]\n",
      " [ 0.  0.  0. ...  0.  7. -1.]\n",
      " [-1.  0.  0. ...  0. -1. 12.]]\n"
     ]
    }
   ],
   "source": [
    "# Compute Laplacian matrix of mst3\n",
    "laplacian_matrix = degree_matrix - adj_matrix\n",
    "\n",
    "# Print Laplacian matrix\n",
    "print(laplacian_matrix.shape)\n",
    "print(laplacian_matrix)"
   ]
  },
  {
   "attachments": {},
   "cell_type": "markdown",
   "metadata": {},
   "source": [
    "*Eigenvectors and eigenvalues*"
   ]
  },
  {
   "cell_type": "code",
   "execution_count": 69,
   "metadata": {},
   "outputs": [
    {
     "name": "stdout",
     "output_type": "stream",
     "text": [
      "(72, 2)\n",
      "[[ 0.118  0.01 ]\n",
      " [ 0.118  0.06 ]\n",
      " [ 0.118  0.304]\n",
      " [ 0.118  0.018]\n",
      " [ 0.118  0.064]\n",
      " [ 0.118  0.349]\n",
      " [ 0.118 -0.065]\n",
      " [ 0.118  0.012]\n",
      " [ 0.118  0.343]\n",
      " [ 0.118  0.272]\n",
      " [ 0.118  0.254]\n",
      " [ 0.118 -0.051]\n",
      " [ 0.118  0.037]\n",
      " [ 0.118  0.126]\n",
      " [ 0.118  0.067]\n",
      " [ 0.118  0.071]\n",
      " [ 0.118  0.116]\n",
      " [ 0.118  0.01 ]\n",
      " [ 0.118  0.012]\n",
      " [ 0.118  0.091]\n",
      " [ 0.118  0.059]\n",
      " [ 0.118  0.012]\n",
      " [ 0.118  0.362]\n",
      " [ 0.118  0.06 ]\n",
      " [ 0.118 -0.041]\n",
      " [ 0.118  0.011]\n",
      " [ 0.118 -0.011]\n",
      " [ 0.118 -0.018]\n",
      " [ 0.118 -0.09 ]\n",
      " [ 0.118 -0.05 ]\n",
      " [ 0.118 -0.054]\n",
      " [ 0.118 -0.018]\n",
      " [ 0.118 -0.036]\n",
      " [ 0.118 -0.027]\n",
      " [ 0.118 -0.132]\n",
      " [ 0.118 -0.057]\n",
      " [ 0.118 -0.045]\n",
      " [ 0.118 -0.061]\n",
      " [ 0.118 -0.031]\n",
      " [ 0.118 -0.022]\n",
      " [ 0.118 -0.052]\n",
      " [ 0.118  0.016]\n",
      " [ 0.118 -0.139]\n",
      " [ 0.118 -0.079]\n",
      " [ 0.118 -0.062]\n",
      " [ 0.118 -0.081]\n",
      " [ 0.118 -0.151]\n",
      " [ 0.118  0.075]\n",
      " [ 0.118  0.002]\n",
      " [ 0.118 -0.042]\n",
      " [ 0.118 -0.099]\n",
      " [ 0.118 -0.014]\n",
      " [ 0.118 -0.049]\n",
      " [ 0.118 -0.112]\n",
      " [ 0.118 -0.135]\n",
      " [ 0.118 -0.149]\n",
      " [ 0.118 -0.123]\n",
      " [ 0.118 -0.153]\n",
      " [ 0.118 -0.151]\n",
      " [ 0.118 -0.153]\n",
      " [ 0.118 -0.089]\n",
      " [ 0.118 -0.05 ]\n",
      " [ 0.118 -0.044]\n",
      " [ 0.118 -0.019]\n",
      " [ 0.118 -0.054]\n",
      " [ 0.118 -0.137]\n",
      " [ 0.118  0.054]\n",
      " [ 0.118  0.093]\n",
      " [ 0.118  0.079]\n",
      " [ 0.118 -0.097]\n",
      " [ 0.118  0.001]\n",
      " [ 0.118  0.002]]\n"
     ]
    }
   ],
   "source": [
    "# Compute first k eigen vectors of Laplacian matrix where k is number of clusters\n",
    "k = 2\n",
    "eigen_values, eigen_vectors = np.linalg.eig(laplacian_matrix)\n",
    "eigen_vectors = eigen_vectors[:, eigen_values.argsort()]\n",
    "U = eigen_vectors[:, :k]\n",
    "\n",
    "# Print eigen vectors\n",
    "print(U.shape)\n",
    "print(U)"
   ]
  },
  {
   "attachments": {},
   "cell_type": "markdown",
   "metadata": {},
   "source": [
    "*K-means Clustering*"
   ]
  },
  {
   "cell_type": "code",
   "execution_count": 70,
   "metadata": {},
   "outputs": [
    {
     "name": "stdout",
     "output_type": "stream",
     "text": [
      "Silhouette Score:  0.7467399520680679\n",
      "Execution time:  0.028738021850585938\n"
     ]
    }
   ],
   "source": [
    "def doKmeans(X, nclust):\n",
    "    model = KMeans(nclust)\n",
    "    model.fit(X)\n",
    "    clust_labels = model.predict(X)\n",
    "    cent = model.cluster_centers_\n",
    "    return (clust_labels, cent)\n",
    "\n",
    "start = time.time()\n",
    "clust_labels, cent = doKmeans(U, 2)\n",
    "end = time.time()\n",
    "score=silhouette_score(U, clust_labels,metric='euclidean')\n",
    "print(\"Silhouette Score: \", score)\n",
    "print(\"Execution time: \", end-start)"
   ]
  },
  {
   "attachments": {},
   "cell_type": "markdown",
   "metadata": {},
   "source": [
    "*Computing Complete Graph of U*"
   ]
  },
  {
   "cell_type": "code",
   "execution_count": 71,
   "metadata": {},
   "outputs": [
    {
     "name": "stdout",
     "output_type": "stream",
     "text": [
      "(72, 72)\n",
      "[[0.    0.051 0.295 ... 0.107 0.008 0.008]\n",
      " [0.051 0.    0.244 ... 0.157 0.059 0.058]\n",
      " [0.295 0.244 0.    ... 0.401 0.303 0.303]\n",
      " ...\n",
      " [0.107 0.157 0.401 ... 0.    0.098 0.099]\n",
      " [0.008 0.059 0.303 ... 0.098 0.    0.001]\n",
      " [0.008 0.058 0.303 ... 0.099 0.001 0.   ]]\n"
     ]
    }
   ],
   "source": [
    "# Compute Complete Graph of U\n",
    "G = nx.Graph()\n",
    "dist_matrix = squareform(pdist(U))\n",
    "\n",
    "# Print adjacency matrix\n",
    "print(dist_matrix.shape)\n",
    "print(dist_matrix)\n"
   ]
  },
  {
   "attachments": {},
   "cell_type": "markdown",
   "metadata": {},
   "source": [
    "*Computing MST of U*"
   ]
  },
  {
   "cell_type": "code",
   "execution_count": 72,
   "metadata": {},
   "outputs": [],
   "source": [
    "# Compute MST of U\n",
    "mst = MST(dist_matrix)\n",
    "\n",
    "# Add weights to the edges of the MST\n",
    "for i in range(len(mst)):\n",
    "    mst[i].append(dist_matrix[mst[i][0]][mst[i][1]])\n",
    "\n",
    "# Sort the edges\n",
    "mst.sort(key=lambda x: x[2])"
   ]
  },
  {
   "attachments": {},
   "cell_type": "markdown",
   "metadata": {},
   "source": [
    "*MST-based Clustering*"
   ]
  },
  {
   "cell_type": "code",
   "execution_count": 73,
   "metadata": {},
   "outputs": [
    {
     "name": "stdout",
     "output_type": "stream",
     "text": [
      "Silhouette Score:  0.6973274621762604\n",
      "Execution time: 0.001252889633178711\n"
     ]
    }
   ],
   "source": [
    "sorted_edges = mst\n",
    "n = len(nodes)\n",
    "e = len(sorted_edges)\n",
    "visited = [0 for i in range(n)]\n",
    "adjMatrix =[[-1 for i in range(n)] for i in range(n)]\n",
    "\n",
    "def traverse(start,adjMatrix,visited,c):\n",
    "    visited[start] = c\n",
    "    for i in range(n):\n",
    "        if(visited[i]==0 and adjMatrix[start][i]!=-1):\n",
    "            traverse(i,adjMatrix,visited,c)\n",
    "\n",
    "# removing k longest edges\n",
    "start = time.time()\n",
    "k = 2\n",
    "clusters=[]\n",
    "for i in range(e-k):\n",
    "    adjMatrix[sorted_edges[i][0]][sorted_edges[i][1]] = sorted_edges[i][2]\n",
    "    adjMatrix[sorted_edges[i][1]][sorted_edges[i][0]] = sorted_edges[i][2]\n",
    "c = 0\n",
    "for i in range(n):\n",
    "    if visited[i] == 0:\n",
    "        c += 1\n",
    "        traverse(i,adjMatrix,visited,c)\n",
    "e=len(sorted_edges)\n",
    "end=time.time()\n",
    "clust_labels = visited\n",
    "score=silhouette_score(U, clust_labels, metric='euclidean')\n",
    "print(\"Silhouette Score: \", score)\n",
    "print(\"Execution time:\",end-start)"
   ]
  }
 ],
 "metadata": {
  "kernelspec": {
   "display_name": "Python 3",
   "language": "python",
   "name": "python3"
  },
  "language_info": {
   "codemirror_mode": {
    "name": "ipython",
    "version": 3
   },
   "file_extension": ".py",
   "mimetype": "text/x-python",
   "name": "python",
   "nbconvert_exporter": "python",
   "pygments_lexer": "ipython3",
   "version": "3.10.10"
  },
  "orig_nbformat": 4
 },
 "nbformat": 4,
 "nbformat_minor": 2
}
